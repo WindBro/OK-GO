{
 "cells": [
  {
   "cell_type": "code",
   "execution_count": 14,
   "metadata": {},
   "outputs": [
    {
     "name": "stdout",
     "output_type": "stream",
     "text": [
      "   姓名  年齡  城市   職業\n",
      "0  小明  25  台北  工程師\n",
      "1  小華  32  台中   醫生\n",
      "2  小美  28  高雄   老師\n",
      "3  大雄  35  台北   律師\n",
      "4  靜香  30  台南  設計師\n"
     ]
    }
   ],
   "source": [
    "import pandas as pd\n",
    "\n",
    "# 創建一個包含姓名、年齡、城市、職業的數據\n",
    "data = {\n",
    "    '姓名': ['小明', '小華', '小美', '大雄', '靜香'],\n",
    "    '年齡': [25, 32, 28, 35, 30],\n",
    "    '城市': ['台北', '台中', '高雄', '台北', '台南'],\n",
    "    '職業': ['工程師', '醫生', '老師', '律師', '設計師']\n",
    "}\n",
    "\n",
    "# 將字典轉換為 DataFrame\n",
    "df = pd.DataFrame(data)\n",
    "print(df)\n"
   ]
  },
  {
   "cell_type": "code",
   "execution_count": 19,
   "metadata": {},
   "outputs": [
    {
     "name": "stdout",
     "output_type": "stream",
     "text": [
      "   姓名  年齡  城市   職業\n",
      "0  小明  25  台北  工程師\n",
      "1  小華  32  台中   醫生\n",
      "2  小美  28  高雄   老師\n"
     ]
    }
   ],
   "source": [
    "print(df.head(3))  #顯示數據框的前幾行"
   ]
  },
  {
   "cell_type": "code",
   "execution_count": 20,
   "metadata": {},
   "outputs": [
    {
     "name": "stdout",
     "output_type": "stream",
     "text": [
      "0    25\n",
      "1    32\n",
      "2    28\n",
      "3    35\n",
      "4    30\n",
      "Name: 年齡, dtype: int64\n"
     ]
    }
   ],
   "source": [
    "print(df['年齡'])  #指定列名來訪問數據框中的某一列"
   ]
  },
  {
   "cell_type": "code",
   "execution_count": 26,
   "metadata": {},
   "outputs": [
    {
     "name": "stdout",
     "output_type": "stream",
     "text": [
      "   姓名  年齡  城市  職業\n",
      "1  小華  32  台中  醫生\n",
      "3  大雄  35  台北  律師\n",
      "---\n",
      "0    False\n",
      "1     True\n",
      "2    False\n",
      "3     True\n",
      "4    False\n",
      "Name: 年齡, dtype: bool\n",
      "---\n",
      "   姓名  年齡  城市  職業\n",
      "3  大雄  35  台北  律師\n"
     ]
    }
   ],
   "source": [
    "df_older_than_30 = df[df['年齡'] > 30]\n",
    "print(df_older_than_30)\n",
    "#使用布爾索引來篩選出符合條件的行\n",
    "\n",
    "print('---')\n",
    "print(df['年齡']>30)\n",
    "\n",
    "print('---')  #更複雜的篩選\n",
    "df_filtered = df[(df['年齡'] > 30) & (df['城市'] == '台北')]\n",
    "print(df_filtered)"
   ]
  },
  {
   "cell_type": "code",
   "execution_count": null,
   "metadata": {},
   "outputs": [],
   "source": []
  }
 ],
 "metadata": {
  "kernelspec": {
   "display_name": "Python 3",
   "language": "python",
   "name": "python3"
  },
  "language_info": {
   "codemirror_mode": {
    "name": "ipython",
    "version": 3
   },
   "file_extension": ".py",
   "mimetype": "text/x-python",
   "name": "python",
   "nbconvert_exporter": "python",
   "pygments_lexer": "ipython3",
   "version": "3.12.4"
  }
 },
 "nbformat": 4,
 "nbformat_minor": 2
}
